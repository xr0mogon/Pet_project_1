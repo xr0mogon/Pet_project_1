{
 "cells": [
  {
   "cell_type": "markdown",
   "id": "ecccf8c5",
   "metadata": {},
   "source": [
    "# Imports"
   ]
  },
  {
   "cell_type": "code",
   "execution_count": 1,
   "id": "0c2a8193",
   "metadata": {},
   "outputs": [],
   "source": [
    "import os\n",
    "\n",
    "import pandas as pd\n",
    "import numpy as np\n",
    "import scipy as stats\n",
    "import joblib\n",
    "import time\n",
    "import bisect\n",
    "import gc\n",
    "import sklearn.metrics as mtrcs\n",
    "import optuna\n",
    "\n",
    "from tqdm import tqdm\n",
    "from sklearn.model_selection import train_test_split, StratifiedKFold, GridSearchCV, KFold\n",
    "from catboost import CatBoostRegressor, CatBoostClassifier\n",
    "\n",
    "from sklearn.preprocessing import label_binarize\n",
    "\n",
    "from sklearn.metrics import f1_score, accuracy_score, \\\n",
    "roc_auc_score, classification_report, r2_score, precision_score, recall_score, \\\n",
    "log_loss\n",
    "\n",
    "import warnings\n",
    "warnings.filterwarnings(\"ignore\");\n",
    "\n",
    "RAND = 10\n",
    "N_FOLDS = 5"
   ]
  },
  {
   "cell_type": "code",
   "execution_count": 2,
   "id": "ca61beef",
   "metadata": {},
   "outputs": [],
   "source": [
    "from get_metrics import get_metrics_classification, roc_auc_score, f1_score\n",
    "from sklearn.metrics import f1_score, accuracy_score, \\\n",
    "roc_auc_score, classification_report, r2_score, precision_score, recall_score, \\\n",
    "log_loss"
   ]
  },
  {
   "cell_type": "code",
   "execution_count": 3,
   "id": "06f0df80",
   "metadata": {},
   "outputs": [],
   "source": [
    "def check_overfitting(model, X_train, y_train, X_test, y_test, metric_fun):\n",
    "    \"\"\"\n",
    "    Проверка на overfitting для классификации\n",
    "    \"\"\"\n",
    "    y_pred_train = model.predict_proba(X_train)[:,1]\n",
    "    y_pred_test = model.predict_proba(X_test)[:,1]\n",
    "    value_train = metric_fun(y_train, y_pred_train)\n",
    "    value_test = metric_fun(y_test, y_pred_test)\n",
    "\n",
    "    print(f'{metric_fun.__name__} train: %.3f' % value_train)\n",
    "    print(f'{metric_fun.__name__} test: %.3f' % value_test)\n",
    "    print(f'delta = {(abs(value_train - value_test)/value_test*100):.1f} %')\n"
   ]
  },
  {
   "cell_type": "markdown",
   "id": "13f3a281",
   "metadata": {},
   "source": [
    "## Расположение папок с данными"
   ]
  },
  {
   "cell_type": "code",
   "execution_count": 4,
   "id": "e5cc09c4",
   "metadata": {},
   "outputs": [],
   "source": [
    "LOCAL_DATA_PATH = \"../data\"\n",
    "DATA_FILE = 'competition_data_final_pqt'\n",
    "\n",
    "# целевые переменные\n",
    "TARGET_FILE_AGE = 'targets_age_prep.parquet'\n",
    "TARGET_FILE_MALE = 'targets_is_male_prep.parquet'\n",
    "\n",
    "# id, по которым нужно предсказать пол и возраст\n",
    "SUBMIT_FILE = 'submit_2.pqt'\n",
    "\n",
    "# папка, куда будут сохраняться предобработанные данные\n",
    "PREP_DATA = 'preprocessed_data'\n",
    "\n",
    "LOCAL_DATA_PATH_mts = \"../data/ml_cup_data\""
   ]
  },
  {
   "cell_type": "markdown",
   "id": "b3deec78",
   "metadata": {},
   "source": [
    "# 5. ML parts"
   ]
  },
  {
   "cell_type": "markdown",
   "id": "e9e1446f",
   "metadata": {},
   "source": [
    "## 5.1.1. Получим оценку по возрасту"
   ]
  },
  {
   "cell_type": "markdown",
   "id": "2032c493",
   "metadata": {},
   "source": [
    "### CatBoostClassifier baseline"
   ]
  },
  {
   "cell_type": "code",
   "execution_count": 5,
   "id": "c639c1a0",
   "metadata": {},
   "outputs": [],
   "source": [
    "# load\n",
    "df = pd.read_parquet(f\"{LOCAL_DATA_PATH}/{PREP_DATA}/prep_data_with_targets_age.parquet\")\n",
    "\n",
    "cat_features = df.select_dtypes('category').columns.tolist()\n",
    "\n",
    "# df[['user_id','age_target']].head()"
   ]
  },
  {
   "cell_type": "code",
   "execution_count": 6,
   "id": "d93d950f",
   "metadata": {},
   "outputs": [],
   "source": [
    "X = df.drop(['user_id', 'age_target'], axis=1)\n",
    "y = df['age_target']\n",
    "\n",
    "# Тестовые\n",
    "X_train, X_test, y_train, y_test = train_test_split(X,\n",
    "                                                    y,\n",
    "                                                    test_size = 0.3,\n",
    "                                                    stratify=y,\n",
    "                                                    random_state = RAND)\n",
    "\n",
    "# Валидационные\n",
    "X_train_, X_val, y_train_, y_val = train_test_split(X_train,\n",
    "                                                    y_train,\n",
    "                                                    test_size=0.15,\n",
    "                                                    shuffle=True,\n",
    "                                                    random_state=RAND)\n",
    "\n",
    "eval_set = [(X_val, y_val)]"
   ]
  },
  {
   "cell_type": "code",
   "execution_count": 7,
   "id": "23233665",
   "metadata": {},
   "outputs": [],
   "source": [
    "cat_params = {'n_estimators' : 1500,\n",
    "              'random_state' : RAND,\n",
    "              'early_stopping_rounds' : 100,\n",
    "              'custom_loss' : ['TotalF1'],\n",
    "              'cat_features' : cat_features\n",
    "}"
   ]
  },
  {
   "cell_type": "code",
   "execution_count": 8,
   "id": "a1ebbe41",
   "metadata": {},
   "outputs": [
    {
     "name": "stdout",
     "output_type": "stream",
     "text": [
      "Wall time: 1min 35s\n"
     ]
    }
   ],
   "source": [
    "%%time\n",
    "\n",
    "clf = CatBoostClassifier(**cat_params,\n",
    "                         task_type=\"GPU\")\n",
    "\n",
    "\n",
    "clf.fit(X_train,\n",
    "        y_train,\n",
    "        eval_set=eval_set,\n",
    "        verbose=False)\n",
    "\n",
    "y_pred = clf.predict(X_test)"
   ]
  },
  {
   "cell_type": "code",
   "execution_count": 9,
   "id": "eb136b06",
   "metadata": {},
   "outputs": [
    {
     "name": "stdout",
     "output_type": "stream",
     "text": [
      "age f1_weighted score: 0.4514\n"
     ]
    }
   ],
   "source": [
    "f1 = f1_score(y_test, y_pred, average=\"weighted\")\n",
    "print(\"age f1_weighted score: {}\".format( round( f1, 4 ) ))"
   ]
  },
  {
   "cell_type": "code",
   "execution_count": 10,
   "id": "9b38c5bc",
   "metadata": {},
   "outputs": [
    {
     "name": "stdout",
     "output_type": "stream",
     "text": [
      "f1_score_weighted train: 0.5141\n",
      "f1_score_weighted test: 0.4514\n",
      "delta = 13.9 %\n"
     ]
    }
   ],
   "source": [
    "y_pred_train = clf.predict(X_train)\n",
    "y_pred_test = clf.predict(X_test)\n",
    "value_train = f1_score(y_train, y_pred_train, average=\"weighted\")\n",
    "value_test = f1_score(y_test, y_pred_test, average=\"weighted\")\n",
    "\n",
    "print(f'f1_score_weighted train: %.4f' % value_train)\n",
    "print(f'f1_score_weighted test: %.4f' % value_test)\n",
    "print(f'delta = {(abs(value_train - value_test)/value_test*100):.1f} %')"
   ]
  },
  {
   "cell_type": "code",
   "execution_count": 11,
   "id": "914fdb78",
   "metadata": {},
   "outputs": [
    {
     "data": {
      "text/plain": [
       "{'learn': {'TotalF1': 0.5141637935142694, 'MultiClass': 1.150442939921801},\n",
       " 'validation': {'TotalF1': 0.5094104165290579,\n",
       "  'MultiClass': 1.1497287234160292}}"
      ]
     },
     "execution_count": 11,
     "metadata": {},
     "output_type": "execute_result"
    }
   ],
   "source": [
    "clf.get_best_score()"
   ]
  },
  {
   "cell_type": "code",
   "execution_count": 12,
   "id": "92f0b403",
   "metadata": {},
   "outputs": [],
   "source": [
    "# 250\n",
    "# learning_rate : 0.32709699869155884\n",
    "# age f1_weighted score: 0.4428 \n",
    "\n",
    "# 500\n",
    "# age f1_weighted score: 0.4463\n",
    "# f1_score_weighted train: 0.494\n",
    "# f1_score_weighted test: 0.446\n",
    "# delta = 10.7 %  \n",
    "\n",
    "# 1000\n",
    "# learning_rate : 0.1784750074148178\n",
    "# age f1_weighted score: 0.4502\n",
    "\n",
    "# 1500\n",
    "# learning_rate : 0.11958499997854231\n",
    "# age f1_weighted score: 0.4514\n",
    "# f1_score_weighted train: 0.514\n",
    "# f1_score_weighted test: 0.451\n",
    "# delta = 13.9 %\n",
    "\n",
    "# 2500\n",
    "# f1_score_weighted train: 0.526\n",
    "# f1_score_weighted test: 0.454\n",
    "# delta = 15.9 %\n",
    "\n",
    "# 5000\n",
    "# learning_rate : 0.08833400160074234\n",
    "# age f1_weighted score: 0.457\n",
    "# f1_score_weighted train: 0.543\n",
    "# f1_score_weighted test: 0.457\n",
    "# delta = 18.8 %"
   ]
  },
  {
   "cell_type": "code",
   "execution_count": 12,
   "id": "b1fd239a",
   "metadata": {},
   "outputs": [],
   "source": [
    "# for key,value in clf.get_all_params().items(): \n",
    "#     print(key, ':', value)"
   ]
  },
  {
   "cell_type": "code",
   "execution_count": 13,
   "id": "401883ad",
   "metadata": {},
   "outputs": [
    {
     "data": {
      "text/plain": [
       "['../data/preprocessed_data/model_1_age_baseline.pkl']"
      ]
     },
     "execution_count": 13,
     "metadata": {},
     "output_type": "execute_result"
    }
   ],
   "source": [
    "##########################\n",
    "# SAVE-LOAD using joblib #\n",
    "##########################\n",
    "# save\n",
    "joblib.dump(clf, f'{LOCAL_DATA_PATH}/{PREP_DATA}/model_1_age_baseline.pkl')"
   ]
  },
  {
   "cell_type": "markdown",
   "id": "2fa44fd8",
   "metadata": {},
   "source": [
    "### Подбор параметров с помощью randomized grid search"
   ]
  },
  {
   "cell_type": "code",
   "execution_count": 15,
   "id": "cf99bfa2",
   "metadata": {},
   "outputs": [
    {
     "data": {
      "application/vnd.jupyter.widget-view+json": {
       "model_id": "09b232e0cc7a45f28c00a581922f8c64",
       "version_major": 2,
       "version_minor": 0
      },
      "text/plain": [
       "MetricVisualizer(layout=Layout(align_self='stretch', height='500px'))"
      ]
     },
     "metadata": {},
     "output_type": "display_data"
    },
    {
     "name": "stdout",
     "output_type": "stream",
     "text": [
      "bestTest = 1.264231126\n",
      "bestIteration = 1477\n",
      "0:\tloss: 1.2642311\tbest: 1.2642311 (0)\ttotal: 1m 29s\tremaining: 1h 12m 48s\n",
      "bestTest = 1.249981842\n",
      "bestIteration = 1499\n",
      "1:\tloss: 1.2499818\tbest: 1.2499818 (1)\ttotal: 3m 48s\tremaining: 1h 31m 12s\n",
      "bestTest = 1.263247819\n",
      "bestIteration = 1457\n",
      "2:\tloss: 1.2632478\tbest: 1.2499818 (1)\ttotal: 5m 9s\tremaining: 1h 20m 55s\n",
      "bestTest = 1.253952629\n",
      "bestIteration = 1499\n",
      "3:\tloss: 1.2539526\tbest: 1.2499818 (1)\ttotal: 6m 26s\tremaining: 1h 14m 6s\n",
      "bestTest = 1.270303515\n",
      "bestIteration = 1499\n",
      "4:\tloss: 1.2703035\tbest: 1.2499818 (1)\ttotal: 8m 6s\tremaining: 1h 12m 59s\n",
      "bestTest = 1.271238471\n",
      "bestIteration = 1497\n",
      "5:\tloss: 1.2712385\tbest: 1.2499818 (1)\ttotal: 9m 12s\tremaining: 1h 7m 28s\n",
      "bestTest = 1.264745865\n",
      "bestIteration = 1499\n",
      "6:\tloss: 1.2647459\tbest: 1.2499818 (1)\ttotal: 10m 32s\tremaining: 1h 4m 42s\n",
      "bestTest = 1.250409218\n",
      "bestIteration = 1499\n",
      "7:\tloss: 1.2504092\tbest: 1.2499818 (1)\ttotal: 12m 50s\tremaining: 1h 7m 23s\n",
      "bestTest = 1.26047024\n",
      "bestIteration = 1475\n",
      "8:\tloss: 1.2604702\tbest: 1.2499818 (1)\ttotal: 14m 20s\tremaining: 1h 5m 19s\n",
      "bestTest = 1.269057599\n",
      "bestIteration = 1067\n",
      "9:\tloss: 1.2690576\tbest: 1.2499818 (1)\ttotal: 15m 55s\tremaining: 1h 3m 42s\n",
      "bestTest = 1.250423122\n",
      "bestIteration = 1499\n",
      "10:\tloss: 1.2504231\tbest: 1.2499818 (1)\ttotal: 17m 19s\tremaining: 1h 1m 25s\n",
      "bestTest = 1.26330914\n",
      "bestIteration = 987\n",
      "11:\tloss: 1.2633091\tbest: 1.2499818 (1)\ttotal: 18m 30s\tremaining: 58m 36s\n",
      "bestTest = 1.250044408\n",
      "bestIteration = 1483\n",
      "12:\tloss: 1.2500444\tbest: 1.2499818 (1)\ttotal: 21m 4s\tremaining: 59m 59s\n",
      "bestTest = 1.248602598\n",
      "bestIteration = 1496\n",
      "13:\tloss: 1.2486026\tbest: 1.2486026 (13)\ttotal: 22m 54s\tremaining: 58m 53s\n",
      "bestTest = 1.259452486\n",
      "bestIteration = 1416\n",
      "14:\tloss: 1.2594525\tbest: 1.2486026 (13)\ttotal: 24m 23s\tremaining: 56m 55s\n",
      "bestTest = 1.248039301\n",
      "bestIteration = 1489\n",
      "15:\tloss: 1.2480393\tbest: 1.2480393 (15)\ttotal: 26m 56s\tremaining: 57m 15s\n",
      "bestTest = 1.260237201\n",
      "bestIteration = 1330\n",
      "16:\tloss: 1.2602372\tbest: 1.2480393 (15)\ttotal: 28m 26s\tremaining: 55m 13s\n",
      "Estimating final quality...\n",
      "Training on fold [0/5]\n",
      "bestTest = 1.245101262\n",
      "bestIteration = 1499\n",
      "Training on fold [1/5]\n",
      "bestTest = 1.245045962\n",
      "bestIteration = 1484\n",
      "Training on fold [2/5]\n",
      "bestTest = 1.238345268\n",
      "bestIteration = 1497\n",
      "Training on fold [3/5]\n",
      "bestTest = 1.23976682\n",
      "bestIteration = 1499\n",
      "Training on fold [4/5]\n",
      "bestTest = 1.247816821\n",
      "bestIteration = 1499\n"
     ]
    }
   ],
   "source": [
    "grid = {\n",
    "    \"n_estimators\": [1500],\n",
    "    \"learning_rate\": [0.11958499997854231],\n",
    "    \"boosting_type\" : ['Ordered', 'Plain'], #\n",
    "    \"bootstrap_type\" : [\"Bayesian\", \"Bernoulli\", \"MVS\"], \n",
    "    \"grow_policy\": [\"SymmetricTree\", \"Depthwise\", \"Lossguide\"],\n",
    "    \"custom_metric\" : ['F1'],\n",
    "    \"max_depth\" : list(range(6, 10)),\n",
    "    \"l2_leaf_reg\" : [*np.arange(1, 10)], #\n",
    "    \"random_state\": [RAND]\n",
    "}\n",
    "\n",
    "\n",
    "model = CatBoostClassifier(silent=True,\n",
    "                           cat_features=cat_features,\n",
    "                           task_type=\"GPU\",\n",
    "                           early_stopping_rounds=100\n",
    "                           )\n",
    "\n",
    "grid_search_result = model.randomized_search(grid,\n",
    "                                             X=X_train,\n",
    "                                             y=y_train,\n",
    "                                             cv=5, # \n",
    "                                             n_iter=50, #\n",
    "                                             refit=True, # \n",
    "                                             shuffle=True, #\n",
    "                                             stratified=True, #\n",
    "                                             calc_cv_statistics=True, ##\n",
    "                                             search_by_train_test_split=True, ##\n",
    "                                             plot=True)"
   ]
  },
  {
   "cell_type": "code",
   "execution_count": 16,
   "id": "ae60535f",
   "metadata": {},
   "outputs": [
    {
     "data": {
      "text/plain": [
       "{'random_seed': 10,\n",
       " 'depth': 8,\n",
       " 'l2_leaf_reg': 8,\n",
       " 'iterations': 1500,\n",
       " 'learning_rate': 0.11958499997854231,\n",
       " 'grow_policy': 'SymmetricTree',\n",
       " 'boosting_type': 'Plain',\n",
       " 'custom_metric': 'F1',\n",
       " 'bootstrap_type': 'Bernoulli'}"
      ]
     },
     "execution_count": 16,
     "metadata": {},
     "output_type": "execute_result"
    }
   ],
   "source": [
    "grid_search_result['params']"
   ]
  },
  {
   "cell_type": "markdown",
   "id": "9cc76168",
   "metadata": {},
   "source": [
    "### CatBoostClassifier grid_search_result\n",
    "\n",
    "Получаем модель по предсказанию возрастных классов на основе подобранных параметров"
   ]
  },
  {
   "cell_type": "code",
   "execution_count": 17,
   "id": "077d2e26",
   "metadata": {},
   "outputs": [
    {
     "name": "stdout",
     "output_type": "stream",
     "text": [
      "Wall time: 2min 39s\n"
     ]
    }
   ],
   "source": [
    "%%time\n",
    "\n",
    "cat_grid = CatBoostClassifier(**grid_search_result['params'], \n",
    "                              task_type=\"GPU\",\n",
    "                              loss_function='MultiClass')\n",
    "cat_grid.fit(X_train_,\n",
    "             y_train_,\n",
    "             cat_features=cat_features,\n",
    "             eval_set=eval_set,\n",
    "             verbose=False,\n",
    "             early_stopping_rounds=100)\n",
    "\n",
    "y_pred = cat_grid.predict( X_test )\n",
    "# было до подбора 0.4514 1500\n",
    "\n",
    "# 0.4428 baseline 250 8%\n",
    "# 0.4362 все параметры\n",
    "# 0.4431 без градиента и ньютона\n",
    "# 0.443 18%"
   ]
  },
  {
   "cell_type": "code",
   "execution_count": 18,
   "id": "04aabfb4",
   "metadata": {},
   "outputs": [
    {
     "name": "stdout",
     "output_type": "stream",
     "text": [
      "age f1_weighted score: 0.454\n"
     ]
    }
   ],
   "source": [
    "f1_2 = f1_score(y_test, y_pred, average=\"weighted\")\n",
    "print(\"age f1_weighted score: {}\".format( round( f1_2, 4 ) ))\n",
    "# было до подбора 0.4514 1500"
   ]
  },
  {
   "cell_type": "code",
   "execution_count": 19,
   "id": "c8e5948d",
   "metadata": {},
   "outputs": [
    {
     "name": "stdout",
     "output_type": "stream",
     "text": [
      "f1_score_weighted train: 0.5637\n",
      "f1_score_weighted test: 0.4540\n",
      "delta = 24.1 %\n"
     ]
    }
   ],
   "source": [
    "y_pred_train = cat_grid.predict(X_train)\n",
    "y_pred_test = cat_grid.predict(X_test)\n",
    "value_train = f1_score(y_train, y_pred_train, average=\"weighted\")\n",
    "value_test = f1_score(y_test, y_pred_test, average=\"weighted\")\n",
    "\n",
    "print(f'f1_score_weighted train: %.4f' % value_train)\n",
    "print(f'f1_score_weighted test: %.4f' % value_test)\n",
    "print(f'delta = {(abs(value_train - value_test)/value_test*100):.1f} %')"
   ]
  },
  {
   "cell_type": "markdown",
   "id": "c1605f8d",
   "metadata": {},
   "source": [
    "после подбора параметров метрика немного выросла, сделаем предсказание нужных сабмитов"
   ]
  },
  {
   "cell_type": "code",
   "execution_count": 20,
   "id": "d2cc0177",
   "metadata": {},
   "outputs": [
    {
     "data": {
      "text/plain": [
       "['../data/preprocessed_data/model_cat_grid_age.pkl']"
      ]
     },
     "execution_count": 20,
     "metadata": {},
     "output_type": "execute_result"
    }
   ],
   "source": [
    "##########################\n",
    "# SAVE-LOAD using joblib #\n",
    "##########################\n",
    "# save\n",
    "joblib.dump(cat_grid, f'{LOCAL_DATA_PATH}/{PREP_DATA}/model_cat_grid_age.pkl')"
   ]
  },
  {
   "cell_type": "markdown",
   "id": "d9d7cd40",
   "metadata": {},
   "source": [
    "## 5.1.2. Обучение на всей подготовленной выборке по возрасту."
   ]
  },
  {
   "cell_type": "code",
   "execution_count": 21,
   "id": "b4a6ade2",
   "metadata": {},
   "outputs": [],
   "source": [
    "# load\n",
    "clf = joblib.load(f'{LOCAL_DATA_PATH}/{PREP_DATA}/model_cat_grid_age.pkl')"
   ]
  },
  {
   "cell_type": "code",
   "execution_count": 22,
   "id": "b453c5d2",
   "metadata": {},
   "outputs": [],
   "source": [
    "# Загрузка данных с возрастом\n",
    "df = pd.read_parquet(f'{LOCAL_DATA_PATH}/{PREP_DATA}/prep_data_with_targets_age.parquet')\n",
    "\n",
    "cat_features = df.select_dtypes('category').columns.tolist()\n",
    "# df.info()"
   ]
  },
  {
   "cell_type": "code",
   "execution_count": 23,
   "id": "a10f19eb",
   "metadata": {},
   "outputs": [],
   "source": [
    "X = df.drop(['user_id', 'age_target'], axis = 1)\n",
    "y = df['age_target']"
   ]
  },
  {
   "cell_type": "code",
   "execution_count": 24,
   "id": "3240b1bb",
   "metadata": {},
   "outputs": [
    {
     "name": "stdout",
     "output_type": "stream",
     "text": [
      "Wall time: 2min 51s\n"
     ]
    },
    {
     "data": {
      "text/plain": [
       "<catboost.core.CatBoostClassifier at 0x28d44064c40>"
      ]
     },
     "execution_count": 24,
     "metadata": {},
     "output_type": "execute_result"
    }
   ],
   "source": [
    "%%time\n",
    "\n",
    "clf.fit(X, \n",
    "        y,\n",
    "        cat_features,\n",
    "        verbose = False);\n",
    "\n",
    "y_pred = clf.predict(X_test)"
   ]
  },
  {
   "cell_type": "code",
   "execution_count": 25,
   "id": "09060dc9",
   "metadata": {},
   "outputs": [
    {
     "name": "stdout",
     "output_type": "stream",
     "text": [
      "age f1_weighted score: 0.5888\n"
     ]
    }
   ],
   "source": [
    "y_pred = clf.predict(X_test)\n",
    "f1_3 = f1_score(y_test, y_pred, average=\"weighted\")\n",
    "print(\"age f1_weighted score: {}\".format( round( f1_3, 4 ) ))"
   ]
  },
  {
   "cell_type": "code",
   "execution_count": 27,
   "id": "4d674a60",
   "metadata": {},
   "outputs": [
    {
     "name": "stdout",
     "output_type": "stream",
     "text": [
      "Model is fitted: True\n",
      "{'learn': {'F1:class=3': 0.4972151052690208, 'F1:class=1': 0.6692064749476231, 'F1:class=5': 0.31211805038008644, 'F1:class=0': 0.6000638705556738, 'F1:class=4': 0.4842171059485364, 'F1:class=2': 0.5937297322338553, 'MultiClass': 1.0320477749226513}}\n"
     ]
    }
   ],
   "source": [
    "print(f\"Model is fitted: {str(clf.is_fitted())}\")\n",
    "# print(f\"Model params: {clf.get_params()}\")\n",
    "print(clf.get_best_score())"
   ]
  },
  {
   "cell_type": "code",
   "execution_count": 29,
   "id": "58ebcbf8",
   "metadata": {},
   "outputs": [
    {
     "data": {
      "text/plain": [
       "['../data/preprocessed_data/model_fin_age.pkl']"
      ]
     },
     "execution_count": 29,
     "metadata": {},
     "output_type": "execute_result"
    }
   ],
   "source": [
    "##########################\n",
    "# SAVE-LOAD using joblib #\n",
    "##########################\n",
    "# save\n",
    "joblib.dump(clf, f'{LOCAL_DATA_PATH}/{PREP_DATA}/model_fin_age.pkl')"
   ]
  },
  {
   "cell_type": "markdown",
   "id": "3af55711",
   "metadata": {},
   "source": [
    "## 5.1.3. Предсказание возраста по submit."
   ]
  },
  {
   "cell_type": "code",
   "execution_count": 30,
   "id": "d3f2b5bb",
   "metadata": {},
   "outputs": [],
   "source": [
    "# load\n",
    "# модель\n",
    "clf = joblib.load(f'{LOCAL_DATA_PATH}/{PREP_DATA}/model_fin_age.pkl')\n",
    "\n",
    "# id с данными, которые нужно предсказать\n",
    "df_submit = pd.read_parquet(f'{LOCAL_DATA_PATH}/{PREP_DATA}/df_submit.parquet')\n",
    "# df_submit.head()"
   ]
  },
  {
   "cell_type": "code",
   "execution_count": 31,
   "id": "4b706316",
   "metadata": {},
   "outputs": [],
   "source": [
    "fin_submit = df_submit[['user_id']]"
   ]
  },
  {
   "cell_type": "code",
   "execution_count": 32,
   "id": "bb56f50d",
   "metadata": {},
   "outputs": [],
   "source": [
    "# предсказание возрастных классов по сабмиту\n",
    "fin_submit['age'] = clf.predict(df_submit.drop(['user_id'], axis = 1))"
   ]
  },
  {
   "cell_type": "code",
   "execution_count": 33,
   "id": "7c6a7640",
   "metadata": {},
   "outputs": [
    {
     "data": {
      "text/html": [
       "<div>\n",
       "<style scoped>\n",
       "    .dataframe tbody tr th:only-of-type {\n",
       "        vertical-align: middle;\n",
       "    }\n",
       "\n",
       "    .dataframe tbody tr th {\n",
       "        vertical-align: top;\n",
       "    }\n",
       "\n",
       "    .dataframe thead th {\n",
       "        text-align: right;\n",
       "    }\n",
       "</style>\n",
       "<table border=\"1\" class=\"dataframe\">\n",
       "  <thead>\n",
       "    <tr style=\"text-align: right;\">\n",
       "      <th></th>\n",
       "      <th>user_id</th>\n",
       "      <th>age</th>\n",
       "    </tr>\n",
       "  </thead>\n",
       "  <tbody>\n",
       "    <tr>\n",
       "      <th>0</th>\n",
       "      <td>27</td>\n",
       "      <td>1</td>\n",
       "    </tr>\n",
       "    <tr>\n",
       "      <th>1</th>\n",
       "      <td>83</td>\n",
       "      <td>1</td>\n",
       "    </tr>\n",
       "    <tr>\n",
       "      <th>2</th>\n",
       "      <td>100</td>\n",
       "      <td>1</td>\n",
       "    </tr>\n",
       "    <tr>\n",
       "      <th>3</th>\n",
       "      <td>115</td>\n",
       "      <td>0</td>\n",
       "    </tr>\n",
       "    <tr>\n",
       "      <th>4</th>\n",
       "      <td>171</td>\n",
       "      <td>1</td>\n",
       "    </tr>\n",
       "  </tbody>\n",
       "</table>\n",
       "</div>"
      ],
      "text/plain": [
       "   user_id  age\n",
       "0       27    1\n",
       "1       83    1\n",
       "2      100    1\n",
       "3      115    0\n",
       "4      171    1"
      ]
     },
     "execution_count": 33,
     "metadata": {},
     "output_type": "execute_result"
    }
   ],
   "source": [
    "fin_submit.head()"
   ]
  },
  {
   "cell_type": "code",
   "execution_count": 34,
   "id": "fb468d97",
   "metadata": {},
   "outputs": [],
   "source": [
    "fin_submit.to_csv(f'{LOCAL_DATA_PATH}/{PREP_DATA}/fin_submit_age.csv', index = False)"
   ]
  },
  {
   "cell_type": "markdown",
   "id": "33e8d542",
   "metadata": {},
   "source": [
    "## 5.2.1. Получим оценку по полу"
   ]
  },
  {
   "cell_type": "markdown",
   "id": "aaadb3ee",
   "metadata": {},
   "source": [
    "### CatBoostClassifier baseline"
   ]
  },
  {
   "cell_type": "code",
   "execution_count": 40,
   "id": "e9da68d9",
   "metadata": {},
   "outputs": [],
   "source": [
    "# load\n",
    "df = pd.read_parquet(f\"{LOCAL_DATA_PATH}/{PREP_DATA}/prep_data_with_targets_is_male.parquet\")\n",
    "\n",
    "cat_features = df.select_dtypes('category').columns.tolist()\n",
    "# df[['user_id','is_male']].head()"
   ]
  },
  {
   "cell_type": "code",
   "execution_count": 41,
   "id": "54f82ea2",
   "metadata": {},
   "outputs": [],
   "source": [
    "X = df.drop(['user_id', 'is_male'], axis=1)\n",
    "y = df['is_male']\n",
    "\n",
    "# Тестовые\n",
    "X_train, X_test, y_train, y_test = train_test_split(X,\n",
    "                                                    y,\n",
    "                                                    test_size = 0.3,\n",
    "                                                    stratify=y,\n",
    "                                                    random_state = RAND)\n",
    "\n",
    "# Валидационные\n",
    "X_train_, X_val, y_train_, y_val = train_test_split(X_train,\n",
    "                                                    y_train,\n",
    "                                                    test_size=0.15,\n",
    "                                                    shuffle=True,\n",
    "                                                    random_state=RAND)\n",
    "\n",
    "eval_set = [(X_val, y_val)]"
   ]
  },
  {
   "cell_type": "code",
   "execution_count": 42,
   "id": "1f74680e",
   "metadata": {},
   "outputs": [],
   "source": [
    "cat_params = {'n_estimators' : 1500,\n",
    "              'random_state' : RAND,\n",
    "              'early_stopping_rounds' : 100,\n",
    "              'cat_features' : cat_features\n",
    "             }"
   ]
  },
  {
   "cell_type": "code",
   "execution_count": 43,
   "id": "205a0833",
   "metadata": {},
   "outputs": [
    {
     "name": "stdout",
     "output_type": "stream",
     "text": [
      "Wall time: 1min 9s\n"
     ]
    }
   ],
   "source": [
    "%%time\n",
    "\n",
    "clf = CatBoostClassifier(**cat_params,\n",
    "                         task_type=\"GPU\")\n",
    "\n",
    "\n",
    "clf.fit(X_train,\n",
    "        y_train,\n",
    "        eval_set=eval_set,\n",
    "        verbose=False)\n",
    "\n",
    "y_pred = clf.predict_proba(X_test)[:,1]"
   ]
  },
  {
   "cell_type": "code",
   "execution_count": 44,
   "id": "ff1760d0",
   "metadata": {},
   "outputs": [
    {
     "name": "stdout",
     "output_type": "stream",
     "text": [
      "GINI по полу 0.724\n"
     ]
    }
   ],
   "source": [
    "print(f'GINI по полу {2 * mtrcs.roc_auc_score(y_test, y_pred) - 1:2.3f}')"
   ]
  },
  {
   "cell_type": "code",
   "execution_count": 45,
   "id": "c1404b3a",
   "metadata": {},
   "outputs": [
    {
     "name": "stdout",
     "output_type": "stream",
     "text": [
      "roc_auc_score train: 0.877\n",
      "roc_auc_score test: 0.862\n",
      "delta = 1.7 %\n"
     ]
    }
   ],
   "source": [
    "check_overfitting(clf, X_train, y_train, X_test, y_test, roc_auc_score)"
   ]
  },
  {
   "cell_type": "code",
   "execution_count": 46,
   "id": "536a81c6",
   "metadata": {},
   "outputs": [
    {
     "name": "stdout",
     "output_type": "stream",
     "text": [
      "gini train 0.754\n",
      "gign test 0.724\n"
     ]
    }
   ],
   "source": [
    "print(f'gini train {2*0.877-1}')\n",
    "print(f'gign test {2*0.862-1}')"
   ]
  },
  {
   "cell_type": "code",
   "execution_count": 28,
   "id": "b46da16d",
   "metadata": {},
   "outputs": [],
   "source": [
    "# for key,value in clf.get_all_params().items(): \n",
    "#     print(key, ':', value)"
   ]
  },
  {
   "cell_type": "code",
   "execution_count": 31,
   "id": "c773e292",
   "metadata": {},
   "outputs": [],
   "source": [
    "# подбор оптимальных значений для сетки\n",
    "\n",
    "# 'n_estimators' : 250\n",
    "# GINI по полу 0.693\n",
    "# learning_rate : 0.08112899959087372\n",
    "\n",
    "# 'n_estimators' : 1500\n",
    "# GINI по полу 0.725\n",
    "# learning_rate : 0.03863900154829025\n",
    "\n",
    "# 'n_estimators' : 2500\n",
    "# GINI по полу 0.730\n",
    "# learning_rate : 0.03127399832010269\n",
    "\n",
    "# 'n_estimators' : 5000\n",
    "# GINI по полу 0.735\n",
    "# learning_rate : 0.023471999913454056"
   ]
  },
  {
   "cell_type": "code",
   "execution_count": 32,
   "id": "f9e2ba3f",
   "metadata": {},
   "outputs": [
    {
     "data": {
      "text/plain": [
       "['../data/preprocessed_data/model_1_is_male_baseline.pkl']"
      ]
     },
     "execution_count": 32,
     "metadata": {},
     "output_type": "execute_result"
    }
   ],
   "source": [
    "##########################\n",
    "# SAVE-LOAD using joblib #\n",
    "##########################\n",
    "# save\n",
    "joblib.dump(clf, f'{LOCAL_DATA_PATH}/{PREP_DATA}/model_1_is_male_baseline.pkl')"
   ]
  },
  {
   "cell_type": "markdown",
   "id": "69842fb8",
   "metadata": {},
   "source": [
    "### Подбор параметров с помощью randomized grid search"
   ]
  },
  {
   "cell_type": "code",
   "execution_count": 33,
   "id": "6777f5af",
   "metadata": {},
   "outputs": [
    {
     "data": {
      "application/vnd.jupyter.widget-view+json": {
       "model_id": "f81722af46794ca981af280241ae7826",
       "version_major": 2,
       "version_minor": 0
      },
      "text/plain": [
       "MetricVisualizer(layout=Layout(align_self='stretch', height='500px'))"
      ]
     },
     "metadata": {},
     "output_type": "display_data"
    },
    {
     "name": "stdout",
     "output_type": "stream",
     "text": [
      "bestTest = 0.469961954\n",
      "bestIteration = 1499\n",
      "0:\tloss: 0.4699620\tbest: 0.4699620 (0)\ttotal: 1m 3s\tremaining: 51m 58s\n",
      "bestTest = 0.4681199067\n",
      "bestIteration = 1499\n",
      "1:\tloss: 0.4681199\tbest: 0.4681199 (1)\ttotal: 2m 2s\tremaining: 49m 7s\n",
      "bestTest = 0.4681169948\n",
      "bestIteration = 1499\n",
      "2:\tloss: 0.4681170\tbest: 0.4681170 (2)\ttotal: 3m 2s\tremaining: 47m 33s\n",
      "bestTest = 0.4811701596\n",
      "bestIteration = 1499\n",
      "3:\tloss: 0.4811702\tbest: 0.4681170 (2)\ttotal: 6m 34s\tremaining: 1h 15m 41s\n",
      "bestTest = 0.4755494058\n",
      "bestIteration = 1499\n",
      "4:\tloss: 0.4755494\tbest: 0.4681170 (2)\ttotal: 7m 29s\tremaining: 1h 7m 25s\n",
      "bestTest = 0.4689910566\n",
      "bestIteration = 1499\n",
      "5:\tloss: 0.4689911\tbest: 0.4681170 (2)\ttotal: 8m 28s\tremaining: 1h 2m 7s\n",
      "bestTest = 0.4757796087\n",
      "bestIteration = 1499\n",
      "6:\tloss: 0.4757796\tbest: 0.4681170 (2)\ttotal: 9m 23s\tremaining: 57m 38s\n",
      "bestTest = 0.4693329197\n",
      "bestIteration = 1499\n",
      "7:\tloss: 0.4693329\tbest: 0.4681170 (2)\ttotal: 10m 20s\tremaining: 54m 17s\n",
      "bestTest = 0.4752940012\n",
      "bestIteration = 1499\n",
      "8:\tloss: 0.4752940\tbest: 0.4681170 (2)\ttotal: 11m 15s\tremaining: 51m 16s\n",
      "bestTest = 0.4691471372\n",
      "bestIteration = 1499\n",
      "9:\tloss: 0.4691471\tbest: 0.4681170 (2)\ttotal: 12m 13s\tremaining: 48m 53s\n",
      "bestTest = 0.4798435276\n",
      "bestIteration = 1490\n",
      "10:\tloss: 0.4798435\tbest: 0.4681170 (2)\ttotal: 15m 49s\tremaining: 56m 7s\n",
      "bestTest = 0.4689418182\n",
      "bestIteration = 1499\n",
      "11:\tloss: 0.4689418\tbest: 0.4681170 (2)\ttotal: 16m 48s\tremaining: 53m 13s\n",
      "bestTest = 0.4685008958\n",
      "bestIteration = 1499\n",
      "12:\tloss: 0.4685009\tbest: 0.4681170 (2)\ttotal: 17m 47s\tremaining: 50m 37s\n",
      "bestTest = 0.4697634649\n",
      "bestIteration = 1499\n",
      "13:\tloss: 0.4697635\tbest: 0.4681170 (2)\ttotal: 18m 43s\tremaining: 48m 10s\n",
      "bestTest = 0.4768876855\n",
      "bestIteration = 1499\n",
      "14:\tloss: 0.4768877\tbest: 0.4681170 (2)\ttotal: 19m 38s\tremaining: 45m 48s\n",
      "bestTest = 0.4690809035\n",
      "bestIteration = 1499\n",
      "15:\tloss: 0.4690809\tbest: 0.4681170 (2)\ttotal: 20m 35s\tremaining: 43m 45s\n",
      "bestTest = 0.480379962\n",
      "bestIteration = 1499\n",
      "16:\tloss: 0.4803800\tbest: 0.4681170 (2)\ttotal: 24m 7s\tremaining: 46m 50s\n",
      "bestTest = 0.4775596579\n",
      "bestIteration = 1499\n",
      "17:\tloss: 0.4775597\tbest: 0.4681170 (2)\ttotal: 25m 1s\tremaining: 44m 28s\n",
      "bestTest = 0.469453845\n",
      "bestIteration = 1499\n",
      "18:\tloss: 0.4694538\tbest: 0.4681170 (2)\ttotal: 25m 58s\tremaining: 42m 23s\n",
      "bestTest = 0.4813618719\n",
      "bestIteration = 1479\n",
      "19:\tloss: 0.4813619\tbest: 0.4681170 (2)\ttotal: 29m 24s\tremaining: 44m 6s\n",
      "bestTest = 0.4696767417\n",
      "bestIteration = 1499\n",
      "20:\tloss: 0.4696767\tbest: 0.4681170 (2)\ttotal: 30m 17s\tremaining: 41m 50s\n",
      "bestTest = 0.4807908118\n",
      "bestIteration = 1499\n",
      "21:\tloss: 0.4807908\tbest: 0.4681170 (2)\ttotal: 33m 39s\tremaining: 42m 49s\n",
      "bestTest = 0.4686538527\n",
      "bestIteration = 1499\n",
      "22:\tloss: 0.4686539\tbest: 0.4681170 (2)\ttotal: 34m 34s\tremaining: 40m 35s\n",
      "bestTest = 0.4691105525\n",
      "bestIteration = 1499\n",
      "23:\tloss: 0.4691106\tbest: 0.4681170 (2)\ttotal: 35m 28s\tremaining: 38m 25s\n",
      "Estimating final quality...\n",
      "Training on fold [0/5]\n",
      "bestTest = 0.4642421409\n",
      "bestIteration = 1499\n",
      "Training on fold [1/5]\n",
      "bestTest = 0.4621979513\n",
      "bestIteration = 1499\n",
      "Training on fold [2/5]\n",
      "bestTest = 0.4630492999\n",
      "bestIteration = 1499\n",
      "Training on fold [3/5]\n",
      "bestTest = 0.4671702401\n",
      "bestIteration = 1499\n",
      "Training on fold [4/5]\n",
      "bestTest = 0.468410722\n",
      "bestIteration = 1499\n"
     ]
    }
   ],
   "source": [
    "grid = {\n",
    "    \"n_estimators\": [1500], \n",
    "    \"learning_rate\": [0.03863900154829025],\n",
    "    \"boosting_type\" : ['Plain','Ordered'], \n",
    "    \"bootstrap_type\" : [\"Bayesian\", \"Bernoulli\"], # ,\"MVS\" прерывает работу rgs \n",
    "    \"grow_policy\": [\"SymmetricTree\", \"Depthwise\", \"Lossguide\"],\n",
    "    \"l2_leaf_reg\": np.arange(0.1, 1, 0.05), # , \"None\"\n",
    "    \"random_strength\": [1, 2, 5, 10, 20, 50, 100, \"None\"],\n",
    "    \"random_state\": [RAND]\n",
    "}\n",
    "\n",
    "\n",
    "model = CatBoostClassifier(silent=True,\n",
    "                           cat_features=cat_features,\n",
    "                           task_type=\"GPU\",\n",
    "                           early_stopping_rounds=100\n",
    "                           )\n",
    "\n",
    "grid_search_result = model.randomized_search(grid,\n",
    "                                             X=X_train,\n",
    "                                             y=y_train,\n",
    "                                             cv=5, # \n",
    "                                             n_iter=50, # \n",
    "                                             refit=True, # \n",
    "                                             shuffle=True, #\n",
    "                                             stratified=True, #\n",
    "                                             calc_cv_statistics=True, ##\n",
    "                                             search_by_train_test_split=True, ##\n",
    "                                             verbose=True,\n",
    "                                             plot=True)"
   ]
  },
  {
   "cell_type": "code",
   "execution_count": 53,
   "id": "0d02ab38",
   "metadata": {},
   "outputs": [
    {
     "data": {
      "text/plain": [
       "{'random_seed': 10,\n",
       " 'random_strength': 1,\n",
       " 'iterations': 1500,\n",
       " 'learning_rate': 0.03863900154829025,\n",
       " 'l2_leaf_reg': 0.7000000000000002,\n",
       " 'grow_policy': 'Lossguide',\n",
       " 'boosting_type': 'Plain',\n",
       " 'bootstrap_type': 'Bernoulli'}"
      ]
     },
     "execution_count": 53,
     "metadata": {},
     "output_type": "execute_result"
    }
   ],
   "source": [
    "grid_search_result['params']"
   ]
  },
  {
   "cell_type": "markdown",
   "id": "1dfd2d95",
   "metadata": {},
   "source": [
    "### CatBoostClassifier grid_search_result\n",
    "\n",
    "Получаем модель по предсказанию пола на основе подобранных параметров"
   ]
  },
  {
   "cell_type": "code",
   "execution_count": 59,
   "id": "53094cc0",
   "metadata": {},
   "outputs": [
    {
     "name": "stdout",
     "output_type": "stream",
     "text": [
      "Wall time: 1min 5s\n"
     ]
    }
   ],
   "source": [
    "%%time\n",
    "\n",
    "cat_grid = CatBoostClassifier(**grid_search_result['params'], \n",
    "                              task_type=\"GPU\")\n",
    "cat_grid.fit(X_train_,\n",
    "             y_train_,\n",
    "             cat_features=cat_features,\n",
    "             eval_set=eval_set,\n",
    "             verbose=False,\n",
    "             early_stopping_rounds=100)\n",
    "\n",
    "\n",
    "y_pred = cat_grid.predict_proba(X_test)[:,1]"
   ]
  },
  {
   "cell_type": "code",
   "execution_count": 60,
   "id": "229cddf0",
   "metadata": {},
   "outputs": [
    {
     "name": "stdout",
     "output_type": "stream",
     "text": [
      "GINI по полу: 0.731\n"
     ]
    }
   ],
   "source": [
    "g = float('{:.3f}'.format(2 * (mtrcs.roc_auc_score(y_test, y_pred)) - 1))\n",
    "print(f'GINI по полу: {g}')"
   ]
  },
  {
   "cell_type": "code",
   "execution_count": 61,
   "id": "9816225a",
   "metadata": {},
   "outputs": [
    {
     "name": "stdout",
     "output_type": "stream",
     "text": [
      "roc_auc_score train: 0.907\n",
      "roc_auc_score test: 0.865\n",
      "delta = 4.8 %\n"
     ]
    }
   ],
   "source": [
    "check_overfitting(cat_grid, X_train, y_train, X_test, y_test, roc_auc_score)"
   ]
  },
  {
   "cell_type": "code",
   "execution_count": 62,
   "id": "fd3de41c",
   "metadata": {},
   "outputs": [
    {
     "name": "stdout",
     "output_type": "stream",
     "text": [
      "gini train 0.8140000000000001\n",
      "gign test 0.73\n"
     ]
    }
   ],
   "source": [
    "print(f'gini train {2*0.907-1}')\n",
    "print(f'gign test {2*0.865-1}')"
   ]
  },
  {
   "cell_type": "code",
   "execution_count": 63,
   "id": "c25b7dfd",
   "metadata": {},
   "outputs": [
    {
     "data": {
      "text/plain": [
       "['../data/preprocessed_data/model_cat_grid_is_male.pkl']"
      ]
     },
     "execution_count": 63,
     "metadata": {},
     "output_type": "execute_result"
    }
   ],
   "source": [
    "##########################\n",
    "# SAVE-LOAD using joblib #\n",
    "##########################\n",
    "# save\n",
    "joblib.dump(cat_grid, f'{LOCAL_DATA_PATH}/{PREP_DATA}/model_cat_grid_is_male.pkl')"
   ]
  },
  {
   "cell_type": "markdown",
   "id": "51a93827",
   "metadata": {},
   "source": [
    "## 5.2.2. Обучение на всей подготовленной выборке по полу."
   ]
  },
  {
   "cell_type": "code",
   "execution_count": 64,
   "id": "bb5998c2",
   "metadata": {},
   "outputs": [],
   "source": [
    "# load\n",
    "clf = joblib.load(f'{LOCAL_DATA_PATH}/{PREP_DATA}/model_cat_grid_is_male.pkl')"
   ]
  },
  {
   "cell_type": "code",
   "execution_count": 65,
   "id": "ca3b19da",
   "metadata": {},
   "outputs": [],
   "source": [
    "# Загрузка данных с учителем\n",
    "df = pd.read_parquet(f'{LOCAL_DATA_PATH}/{PREP_DATA}/prep_data_with_targets_is_male.parquet')\n",
    "\n",
    "cat_features = df.select_dtypes('category').columns.tolist()"
   ]
  },
  {
   "cell_type": "code",
   "execution_count": 66,
   "id": "4b8d6450",
   "metadata": {},
   "outputs": [],
   "source": [
    "X = df.drop(['user_id', 'is_male'], axis = 1)\n",
    "y = df['is_male']"
   ]
  },
  {
   "cell_type": "code",
   "execution_count": 67,
   "id": "8cff7bb9",
   "metadata": {},
   "outputs": [
    {
     "name": "stdout",
     "output_type": "stream",
     "text": [
      "Wall time: 1min 18s\n"
     ]
    },
    {
     "data": {
      "text/plain": [
       "<catboost.core.CatBoostClassifier at 0x1e537bb6be0>"
      ]
     },
     "execution_count": 67,
     "metadata": {},
     "output_type": "execute_result"
    }
   ],
   "source": [
    "%%time\n",
    "\n",
    "clf.fit(X, \n",
    "        y,\n",
    "        cat_features,\n",
    "        verbose = False);"
   ]
  },
  {
   "cell_type": "code",
   "execution_count": 69,
   "id": "0734720a",
   "metadata": {},
   "outputs": [
    {
     "data": {
      "text/plain": [
       "['../data/preprocessed_data/model_fin_is_male.pkl']"
      ]
     },
     "execution_count": 69,
     "metadata": {},
     "output_type": "execute_result"
    }
   ],
   "source": [
    "##########################\n",
    "# SAVE-LOAD using joblib #\n",
    "##########################\n",
    "# save\n",
    "joblib.dump(clf, f'{LOCAL_DATA_PATH}/{PREP_DATA}/model_fin_is_male.pkl')"
   ]
  },
  {
   "cell_type": "markdown",
   "id": "da8b32b4",
   "metadata": {},
   "source": [
    "## 5.2.3. Предсказание возраста по submit."
   ]
  },
  {
   "cell_type": "code",
   "execution_count": 36,
   "id": "8ec2b3b0",
   "metadata": {},
   "outputs": [],
   "source": [
    "# load\n",
    "# модель\n",
    "clf = joblib.load(f'{LOCAL_DATA_PATH}/{PREP_DATA}/model_fin_is_male.pkl')\n",
    "\n",
    "# id с данными, которые нужно предсказать\n",
    "df_submit = pd.read_parquet(f'{LOCAL_DATA_PATH}/{PREP_DATA}/df_submit.parquet')\n",
    "\n",
    "# предсказания возраста\n",
    "# fin_submit =  pd.read_csv(f'{LOCAL_DATA_PATH}/{PREP_DATA}/fin_submit_age.csv')"
   ]
  },
  {
   "cell_type": "code",
   "execution_count": 37,
   "id": "33afcdcf",
   "metadata": {},
   "outputs": [],
   "source": [
    "# предсказание гендера по сабмиту\n",
    "fin_submit['is_male'] = clf.predict_proba(df_submit.drop(['user_id'], axis=1))[:,1]"
   ]
  },
  {
   "cell_type": "code",
   "execution_count": 38,
   "id": "47088c41",
   "metadata": {},
   "outputs": [
    {
     "data": {
      "text/html": [
       "<div>\n",
       "<style scoped>\n",
       "    .dataframe tbody tr th:only-of-type {\n",
       "        vertical-align: middle;\n",
       "    }\n",
       "\n",
       "    .dataframe tbody tr th {\n",
       "        vertical-align: top;\n",
       "    }\n",
       "\n",
       "    .dataframe thead th {\n",
       "        text-align: right;\n",
       "    }\n",
       "</style>\n",
       "<table border=\"1\" class=\"dataframe\">\n",
       "  <thead>\n",
       "    <tr style=\"text-align: right;\">\n",
       "      <th></th>\n",
       "      <th>user_id</th>\n",
       "      <th>age</th>\n",
       "      <th>is_male</th>\n",
       "    </tr>\n",
       "  </thead>\n",
       "  <tbody>\n",
       "    <tr>\n",
       "      <th>0</th>\n",
       "      <td>27</td>\n",
       "      <td>1</td>\n",
       "      <td>0.249684</td>\n",
       "    </tr>\n",
       "    <tr>\n",
       "      <th>1</th>\n",
       "      <td>83</td>\n",
       "      <td>1</td>\n",
       "      <td>0.873754</td>\n",
       "    </tr>\n",
       "    <tr>\n",
       "      <th>2</th>\n",
       "      <td>100</td>\n",
       "      <td>1</td>\n",
       "      <td>0.771891</td>\n",
       "    </tr>\n",
       "    <tr>\n",
       "      <th>3</th>\n",
       "      <td>115</td>\n",
       "      <td>0</td>\n",
       "      <td>0.413567</td>\n",
       "    </tr>\n",
       "    <tr>\n",
       "      <th>4</th>\n",
       "      <td>171</td>\n",
       "      <td>1</td>\n",
       "      <td>0.838263</td>\n",
       "    </tr>\n",
       "  </tbody>\n",
       "</table>\n",
       "</div>"
      ],
      "text/plain": [
       "   user_id  age   is_male\n",
       "0       27    1  0.249684\n",
       "1       83    1  0.873754\n",
       "2      100    1  0.771891\n",
       "3      115    0  0.413567\n",
       "4      171    1  0.838263"
      ]
     },
     "execution_count": 38,
     "metadata": {},
     "output_type": "execute_result"
    }
   ],
   "source": [
    "fin_submit.head()"
   ]
  },
  {
   "cell_type": "code",
   "execution_count": 39,
   "id": "20952021",
   "metadata": {},
   "outputs": [],
   "source": [
    "fin_submit.to_csv(f'{LOCAL_DATA_PATH}/{PREP_DATA}/submission.csv', index = False)"
   ]
  },
  {
   "cell_type": "markdown",
   "id": "c15daf21",
   "metadata": {},
   "source": [
    "# 6. Score.\n",
    "\n",
    "Метрика соревнования — ROC-AUC – для определения пола, f1 weighted – для определения возраста. \n",
    "\n",
    "Все решения рассчитываются по формуле - 2 * f1_weighted(по 6 возрастным бакетам) + gini по полу."
   ]
  },
  {
   "cell_type": "markdown",
   "id": "517643df",
   "metadata": {},
   "source": [
    "baseline"
   ]
  },
  {
   "cell_type": "markdown",
   "id": "4f316da0",
   "metadata": {},
   "source": [
    "- age f1_weighted score: 0.4514\n",
    "- GINI по полу 0.724"
   ]
  },
  {
   "cell_type": "code",
   "execution_count": 47,
   "id": "de162c92",
   "metadata": {},
   "outputs": [
    {
     "data": {
      "text/plain": [
       "1.6268"
      ]
     },
     "execution_count": 47,
     "metadata": {},
     "output_type": "execute_result"
    }
   ],
   "source": [
    "2*0.4514 + 0.724"
   ]
  },
  {
   "cell_type": "markdown",
   "id": "7860dfe2",
   "metadata": {},
   "source": [
    "random grid search best params"
   ]
  },
  {
   "cell_type": "markdown",
   "id": "14ef5abd",
   "metadata": {},
   "source": [
    "- age f1_weighted score: 0.4473\n",
    "- GINI по полу: 0.731"
   ]
  },
  {
   "cell_type": "code",
   "execution_count": 21,
   "id": "1e902d10",
   "metadata": {},
   "outputs": [
    {
     "data": {
      "text/plain": [
       "1.639"
      ]
     },
     "execution_count": 21,
     "metadata": {},
     "output_type": "execute_result"
    }
   ],
   "source": [
    "2* 0.454 + 0.731"
   ]
  },
  {
   "cell_type": "markdown",
   "id": "4094af18",
   "metadata": {},
   "source": [
    "вся выборка"
   ]
  },
  {
   "cell_type": "code",
   "execution_count": 22,
   "id": "ec00d1f7",
   "metadata": {},
   "outputs": [
    {
     "data": {
      "text/plain": [
       "1.9085999999999999"
      ]
     },
     "execution_count": 22,
     "metadata": {},
     "output_type": "execute_result"
    }
   ],
   "source": [
    "2 * 0.5888 + 0.731"
   ]
  },
  {
   "cell_type": "markdown",
   "id": "3c9952ea",
   "metadata": {},
   "source": [
    "на лучших параметрах по rgs и всей выборке модель предсказания возраста переобучается (delta 20%)"
   ]
  },
  {
   "cell_type": "code",
   "execution_count": null,
   "id": "4a68ec73",
   "metadata": {},
   "outputs": [],
   "source": []
  }
 ],
 "metadata": {
  "kernelspec": {
   "display_name": "Python 3 (ipykernel)",
   "language": "python",
   "name": "python3"
  },
  "language_info": {
   "codemirror_mode": {
    "name": "ipython",
    "version": 3
   },
   "file_extension": ".py",
   "mimetype": "text/x-python",
   "name": "python",
   "nbconvert_exporter": "python",
   "pygments_lexer": "ipython3",
   "version": "3.8.12"
  }
 },
 "nbformat": 4,
 "nbformat_minor": 5
}
